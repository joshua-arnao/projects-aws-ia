{
 "cells": [
  {
   "cell_type": "code",
   "execution_count": 1,
   "id": "90eac8c7",
   "metadata": {},
   "outputs": [],
   "source": [
    "import boto3"
   ]
  },
  {
   "cell_type": "code",
   "execution_count": 6,
   "id": "519cceb5",
   "metadata": {},
   "outputs": [],
   "source": [
    "# SDK - Recuerda cambiar la región, a la que hayas elegido y dado permisos sobre los modelos LLM en Amazon Bedrock.\n",
    "bedrock_runtime = boto3.client('bedrock-runtime', region_name='us-east-1')"
   ]
  },
  {
   "cell_type": "code",
   "execution_count": 7,
   "id": "9d1b8d86",
   "metadata": {},
   "outputs": [],
   "source": [
    "# Elige tu modelo, acorde a tu región: https://docs.aws.amazon.com/bedrock/latest/userguide/models-supported.html \n",
    "model_id = \"amazon.nova-pro-v1:0\""
   ]
  },
  {
   "cell_type": "markdown",
   "id": "c02a52fc",
   "metadata": {},
   "source": [
    "Call Bedrock API"
   ]
  },
  {
   "cell_type": "code",
   "execution_count": 8,
   "id": "2b02df57",
   "metadata": {},
   "outputs": [],
   "source": [
    "prompt=\"Hola! Soy Carlos Contreras ¿Cuáles son los pros y contras de usar AWS Lambda vs una instancia EC2?\""
   ]
  },
  {
   "cell_type": "code",
   "execution_count": 9,
   "id": "855c4fbe",
   "metadata": {},
   "outputs": [],
   "source": [
    "response = bedrock_runtime.converse(\n",
    "      modelId=model_id,\n",
    "      system=[{\n",
    "        \"text\": \"Eres un experto en AWS\"\n",
    "      }],\n",
    "      messages=[{\n",
    "        \"role\": \"user\",\n",
    "        \"content\": [{\"text\": prompt}]\n",
    "      }],\n",
    "      inferenceConfig={\n",
    "          \"maxTokens\": 4096,\n",
    "          \"temperature\": 0.5\n",
    "      },\n",
    "    )"
   ]
  },
  {
   "cell_type": "code",
   "execution_count": 10,
   "id": "47ca3e14",
   "metadata": {},
   "outputs": [
    {
     "name": "stdout",
     "output_type": "stream",
     "text": [
      "¡Hola Carlos! AWS Lambda y las instancias EC2 son dos servicios diferentes de AWS que se utilizan para diferentes propósitos. A continuación, te presento algunos pros y contras de cada uno:\n",
      "\n",
      "AWS Lambda:\n",
      "\n",
      "Pros:\n",
      "- Escalabilidad automática: Lambda se encarga de escalar automáticamente tu aplicación en respuesta a la demanda, sin necesidad de que tú te preocupes por la gestión de la infraestructura.\n",
      "- Pago por uso: sólo pagas por el tiempo de ejecución de tu código, no hay costos fijos de infraestructura.\n",
      "- Ideal para aplicaciones sin estado: Lambda es ideal para aplicaciones que no requieren mantener un estado entre solicitudes, como procesamiento de eventos, transformación de datos, etc.\n",
      "\n",
      "Contras:\n",
      "- Limitaciones de tiempo de ejecución: la ejecución de una función Lambda tiene un tiempo límite (actualmente de 15 minutos).\n",
      "- Limitaciones de tamaño de paquete: el tamaño del paquete de implementación de una función Lambda es limitado (actualmente de 50 MB).\n",
      "- Depuración y pruebas más complicadas: dado que Lambda ejecuta tu código en un entorno sin estado y efímero, la depuración y las pruebas pueden ser más complicadas que en una instancia EC2.\n",
      "\n",
      "Instancias EC2:\n",
      "\n",
      "Pros:\n",
      "- Mayor control sobre la infraestructura: con una instancia EC2, tienes un mayor control sobre la configuración y la gestión de la infraestructura.\n",
      "- Ideal para aplicaciones con estado: las instancias EC2 son ideales para aplicaciones que requieren mantener un estado entre solicitudes, como aplicaciones web, bases de datos, etc.\n",
      "- Sin limitaciones de tiempo de ejecución: una instancia EC2 puede ejecutarse durante todo el tiempo que desees.\n",
      "\n",
      "Contras:\n",
      "- Gestionar la infraestructura: debes encargarte tú mismo de la gestión de la infraestructura, lo que puede ser complicado y llevar tiempo.\n",
      "- Costos fijos de infraestructura: debes pagar por la instancia EC2 incluso si no la estás utilizando al máximo.\n",
      "- Escalabilidad manual: para escalar una aplicación en EC2, debes provisionar y configurar manualmente nuevas instancias.\n",
      "\n",
      "En resumen, la elección entre AWS Lambda e instancias EC2 dependerá de las necesidades de tu aplicación y de tus preferencias en cuanto a la gestión de la infraestructura. Si necesitas una solución sin servidor y orientada a eventos, Lambda puede ser una buena opción. Si necesitas un mayor control sobre la infraestructura y estás dispuesto a encargarte de su gestión, las instancias EC2 pueden ser una mejor opción.\n"
     ]
    }
   ],
   "source": [
    "# Print the response\n",
    "response_text = response['output']['message']['content'][0]['text']\n",
    "print(response_text)"
   ]
  }
 ],
 "metadata": {
  "kernelspec": {
   "display_name": ".venv",
   "language": "python",
   "name": "python3"
  },
  "language_info": {
   "codemirror_mode": {
    "name": "ipython",
    "version": 3
   },
   "file_extension": ".py",
   "mimetype": "text/x-python",
   "name": "python",
   "nbconvert_exporter": "python",
   "pygments_lexer": "ipython3",
   "version": "3.9.6"
  }
 },
 "nbformat": 4,
 "nbformat_minor": 5
}
